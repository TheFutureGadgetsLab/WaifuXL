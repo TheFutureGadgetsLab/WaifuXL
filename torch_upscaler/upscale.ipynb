{
 "cells": [
  {
   "cell_type": "code",
   "execution_count": null,
   "metadata": {},
   "outputs": [],
   "source": [
    "import torch\n",
    "import torchvision as tv\n",
    "from RRDBNet import RealESRGANWrapper\n",
    "import matplotlib.pyplot as plt"
   ]
  },
  {
   "cell_type": "code",
   "execution_count": null,
   "metadata": {},
   "outputs": [],
   "source": [
    "def plot_image(img):\n",
    "    oimg = img.squeeze().permute(1, 2, 0).cpu().numpy()\n",
    "    plt.imshow(oimg)\n",
    "    plt.show()"
   ]
  },
  {
   "cell_type": "code",
   "execution_count": null,
   "metadata": {},
   "outputs": [],
   "source": [
    "net = RealESRGANWrapper(\n",
    "    device=torch.device('cuda'),\n",
    "    jit=True,\n",
    "    dtype=torch.float16,\n",
    "    channel_last=True\n",
    ")\n",
    "sd = torch.load(\"./superRes.ckpt\")\n",
    "net.load_state_dict(sd, strict=True)"
   ]
  },
  {
   "cell_type": "code",
   "execution_count": null,
   "metadata": {},
   "outputs": [],
   "source": [
    "lr = tv.io.read_image(\"./chisato_256x256.png\").unsqueeze(0)\n",
    "\n",
    "sr = net(lr)\n",
    "plot_image(sr)"
   ]
  }
 ],
 "metadata": {
  "kernelspec": {
   "display_name": "Python 3.10.4 ('WaifuXL')",
   "language": "python",
   "name": "python3"
  },
  "language_info": {
   "codemirror_mode": {
    "name": "ipython",
    "version": 3
   },
   "file_extension": ".py",
   "mimetype": "text/x-python",
   "name": "python",
   "nbconvert_exporter": "python",
   "pygments_lexer": "ipython3",
   "version": "3.9.13"
  },
  "orig_nbformat": 4,
  "vscode": {
   "interpreter": {
    "hash": "5d3ef9649849833ddbea6839293aaad79b636d362f8a482eb9ac4606e9d8a2d7"
   }
  }
 },
 "nbformat": 4,
 "nbformat_minor": 2
}
